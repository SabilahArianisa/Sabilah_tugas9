{
  "metadata": {
    "kernelspec": {
      "language": "python",
      "display_name": "Python 3",
      "name": "python3"
    },
    "language_info": {
      "name": "python",
      "version": "3.10.12",
      "mimetype": "text/x-python",
      "codemirror_mode": {
        "name": "ipython",
        "version": 3
      },
      "pygments_lexer": "ipython3",
      "nbconvert_exporter": "python",
      "file_extension": ".py"
    },
    "kaggle": {
      "accelerator": "none",
      "dataSources": [
        {
          "sourceId": 4140,
          "sourceType": "datasetVersion",
          "datasetId": 2477
        }
      ],
      "isInternetEnabled": true,
      "language": "python",
      "sourceType": "notebook",
      "isGpuEnabled": false
    },
    "colab": {
      "provenance": []
    }
  },
  "nbformat_minor": 0,
  "nbformat": 4,
  "cells": [
    {
      "source": [
        "\n",
        "import kagglehub\n",
        "kazanova_sentiment140_path = kagglehub.dataset_download('kazanova/sentiment140')\n",
        "\n",
        "print('Data source import complete.')\n"
      ],
      "metadata": {
        "id": "lkqToqLesrmk"
      },
      "cell_type": "code",
      "outputs": [],
      "execution_count": null
    },
    {
      "cell_type": "code",
      "source": [
        "import pandas as pd\n",
        "import numpy as np\n",
        "import matplotlib.pyplot as plt\n",
        "import seaborn as sns\n",
        "from scipy import stats\n",
        "from IPython.display import display"
      ],
      "metadata": {
        "trusted": true,
        "execution": {
          "iopub.status.busy": "2025-02-22T15:26:34.947649Z",
          "iopub.execute_input": "2025-02-22T15:26:34.948098Z",
          "iopub.status.idle": "2025-02-22T15:26:36.102752Z",
          "shell.execute_reply.started": "2025-02-22T15:26:34.948051Z",
          "shell.execute_reply": "2025-02-22T15:26:36.101513Z"
        },
        "id": "_-bfvdOHsrms"
      },
      "outputs": [],
      "execution_count": null
    },
    {
      "cell_type": "code",
      "source": [
        "data = pd.read_csv(r\"/kaggle/input/sentiment140/training.1600000.processed.noemoticon.csv\", encoding=\"latin1\", header=None)"
      ],
      "metadata": {
        "trusted": true,
        "execution": {
          "iopub.status.busy": "2025-02-22T15:26:36.104412Z",
          "iopub.execute_input": "2025-02-22T15:26:36.1049Z",
          "iopub.status.idle": "2025-02-22T15:26:44.269992Z",
          "shell.execute_reply.started": "2025-02-22T15:26:36.104871Z",
          "shell.execute_reply": "2025-02-22T15:26:44.268616Z"
        },
        "id": "aVXe5y9Dsrmu"
      },
      "outputs": [],
      "execution_count": null
    },
    {
      "cell_type": "code",
      "source": [
        "data.shape"
      ],
      "metadata": {
        "trusted": true,
        "execution": {
          "iopub.status.busy": "2025-02-22T15:26:44.272449Z",
          "iopub.execute_input": "2025-02-22T15:26:44.272758Z",
          "iopub.status.idle": "2025-02-22T15:26:44.280672Z",
          "shell.execute_reply.started": "2025-02-22T15:26:44.272733Z",
          "shell.execute_reply": "2025-02-22T15:26:44.279545Z"
        },
        "id": "0CteUrSxsrmw"
      },
      "outputs": [],
      "execution_count": null
    },
    {
      "cell_type": "code",
      "source": [
        "data.head()"
      ],
      "metadata": {
        "trusted": true,
        "execution": {
          "iopub.status.busy": "2025-02-22T15:26:44.282269Z",
          "iopub.execute_input": "2025-02-22T15:26:44.282639Z",
          "iopub.status.idle": "2025-02-22T15:26:44.319551Z",
          "shell.execute_reply.started": "2025-02-22T15:26:44.282609Z",
          "shell.execute_reply": "2025-02-22T15:26:44.317718Z"
        },
        "id": "Mjbxx3Assrmw"
      },
      "outputs": [],
      "execution_count": null
    },
    {
      "cell_type": "code",
      "source": [
        "columns = [\"sentiment\", \"ids\", \"date\", \"flag\", \"user\", \"tweet\"]\n",
        "data.columns= columns\n",
        "data.head()"
      ],
      "metadata": {
        "trusted": true,
        "execution": {
          "iopub.status.busy": "2025-02-22T15:26:44.321271Z",
          "iopub.execute_input": "2025-02-22T15:26:44.32174Z",
          "iopub.status.idle": "2025-02-22T15:26:44.339537Z",
          "shell.execute_reply.started": "2025-02-22T15:26:44.321701Z",
          "shell.execute_reply": "2025-02-22T15:26:44.337817Z"
        },
        "id": "FuJZ2kNTsrmx"
      },
      "outputs": [],
      "execution_count": null
    },
    {
      "cell_type": "code",
      "source": [
        "data.info()"
      ],
      "metadata": {
        "trusted": true,
        "execution": {
          "iopub.status.busy": "2025-02-22T15:26:44.340849Z",
          "iopub.execute_input": "2025-02-22T15:26:44.341319Z",
          "iopub.status.idle": "2025-02-22T15:26:44.752799Z",
          "shell.execute_reply.started": "2025-02-22T15:26:44.341275Z",
          "shell.execute_reply": "2025-02-22T15:26:44.751547Z"
        },
        "id": "2EcxxPn_srmx"
      },
      "outputs": [],
      "execution_count": null
    },
    {
      "cell_type": "code",
      "source": [
        "df = data[[\"tweet\", \"sentiment\"]].copy()\n",
        "df.head()"
      ],
      "metadata": {
        "trusted": true,
        "execution": {
          "iopub.status.busy": "2025-02-22T15:26:44.753797Z",
          "iopub.execute_input": "2025-02-22T15:26:44.754088Z",
          "iopub.status.idle": "2025-02-22T15:26:44.850623Z",
          "shell.execute_reply.started": "2025-02-22T15:26:44.754061Z",
          "shell.execute_reply": "2025-02-22T15:26:44.849359Z"
        },
        "id": "5tFY6uoYsrmx"
      },
      "outputs": [],
      "execution_count": null
    },
    {
      "cell_type": "code",
      "source": [
        "import re\n",
        "import nltk\n",
        "from nltk.corpus import stopwords\n",
        "from nltk.stem import PorterStemmer\n",
        "from wordcloud import STOPWORDS\n",
        "\n",
        "nltk.download('stopwords')\n",
        "\n",
        "stop_words = set(stopwords.words('english'))\n",
        "stop_words.update([\"amp\", \"rt\", \"lt\", \"gt\"])\n",
        "\n",
        "stemmer = PorterStemmer()\n",
        "\n",
        "def clean_tweet(tweet):\n",
        "    tweet = tweet.lower()\n",
        "    tweet = re.sub(r\"https?://\\S+\", \"\", tweet)\n",
        "    tweet = re.sub(r\"@\\w+|#\", \"\", tweet)\n",
        "    tweet = re.sub(r\"[^\\w\\s]|[\\d]\", \"\", tweet)\n",
        "    tweet = \" \".join([stemmer.stem(word) for word in tweet.split() if word not in stop_words])\n",
        "    return tweet\n",
        "\n",
        "df[\"clean_tweet\"] = df[\"tweet\"].apply(clean_tweet)\n",
        "df.head()"
      ],
      "metadata": {
        "trusted": true,
        "execution": {
          "iopub.status.busy": "2025-02-22T15:26:44.85345Z",
          "iopub.execute_input": "2025-02-22T15:26:44.853729Z",
          "iopub.status.idle": "2025-02-22T15:30:42.685144Z",
          "shell.execute_reply.started": "2025-02-22T15:26:44.853706Z",
          "shell.execute_reply": "2025-02-22T15:30:42.683471Z"
        },
        "id": "qvJ7Lq3ysrmy"
      },
      "outputs": [],
      "execution_count": null
    },
    {
      "cell_type": "code",
      "source": [
        "df[\"sentiment\"] = df[\"sentiment\"].replace({0: \"Negative\", 4: \"Positive\"})\n",
        "df.head()"
      ],
      "metadata": {
        "trusted": true,
        "execution": {
          "iopub.status.busy": "2025-02-22T15:30:42.687051Z",
          "iopub.execute_input": "2025-02-22T15:30:42.687769Z",
          "iopub.status.idle": "2025-02-22T15:30:42.792314Z",
          "shell.execute_reply.started": "2025-02-22T15:30:42.687735Z",
          "shell.execute_reply": "2025-02-22T15:30:42.790862Z"
        },
        "id": "ArPjcK6Zsrmz"
      },
      "outputs": [],
      "execution_count": null
    },
    {
      "cell_type": "code",
      "source": [
        "import matplotlib.pyplot as plt\n",
        "\n",
        "df[\"sentiment\"].value_counts().plot(kind=\"pie\",\n",
        "                                    autopct='%1.1f%%',\n",
        "                                    pctdistance=0.85,\n",
        "                                    startangle=90,\n",
        "                                    colors=[\"lightcoral\", \"lightgreen\"],\n",
        "                                    wedgeprops={'edgecolor': 'black'})\n",
        "\n",
        "plt.title('Sentiment Distribution')\n",
        "plt.axis('equal')\n",
        "plt.legend(labels=df[\"sentiment\"].value_counts().index,\n",
        "           loc='upper right', fontsize=9)\n",
        "plt.show()\n"
      ],
      "metadata": {
        "trusted": true,
        "execution": {
          "iopub.status.busy": "2025-02-22T15:30:42.793447Z",
          "iopub.execute_input": "2025-02-22T15:30:42.793736Z",
          "iopub.status.idle": "2025-02-22T15:30:43.164208Z",
          "shell.execute_reply.started": "2025-02-22T15:30:42.79371Z",
          "shell.execute_reply": "2025-02-22T15:30:43.162877Z"
        },
        "id": "keVnsR_8srm0"
      },
      "outputs": [],
      "execution_count": null
    },
    {
      "cell_type": "code",
      "source": [
        "from wordcloud import WordCloud\n",
        "import matplotlib.pyplot as plt\n",
        "\n",
        "positive_words = \" \".join(df[df[\"sentiment\"] == \"Positive\"][\"clean_tweet\"])\n",
        "negative_words = \" \".join(df[df[\"sentiment\"] == \"Negative\"][\"clean_tweet\"])\n",
        "\n",
        "wordcloud = WordCloud(width=800, height=400, background_color=\"white\").generate(positive_words)\n",
        "plt.figure(figsize=(10,5))\n",
        "plt.imshow(wordcloud, interpolation=\"bilinear\")\n",
        "plt.axis(\"off\")\n",
        "plt.title(\"Most Frequent Words in Positive Tweets\")\n",
        "plt.show()"
      ],
      "metadata": {
        "trusted": true,
        "execution": {
          "iopub.status.busy": "2025-02-22T15:30:43.165633Z",
          "iopub.execute_input": "2025-02-22T15:30:43.166056Z",
          "iopub.status.idle": "2025-02-22T15:31:28.048437Z",
          "shell.execute_reply.started": "2025-02-22T15:30:43.166016Z",
          "shell.execute_reply": "2025-02-22T15:31:28.047209Z"
        },
        "id": "wdKMfv1ssrm0"
      },
      "outputs": [],
      "execution_count": null
    },
    {
      "cell_type": "code",
      "source": [
        "wordcloud = WordCloud(width=800, height=400, background_color=\"white\").generate(negative_words)\n",
        "plt.figure(figsize=(10,5))\n",
        "plt.imshow(wordcloud, interpolation=\"bilinear\")\n",
        "plt.axis(\"off\")\n",
        "plt.title(\"Most Frequent Words in Negative Tweets\")\n",
        "plt.show()"
      ],
      "metadata": {
        "trusted": true,
        "execution": {
          "iopub.status.busy": "2025-02-22T15:31:28.049611Z",
          "iopub.execute_input": "2025-02-22T15:31:28.049925Z",
          "iopub.status.idle": "2025-02-22T15:32:11.243627Z",
          "shell.execute_reply.started": "2025-02-22T15:31:28.049898Z",
          "shell.execute_reply": "2025-02-22T15:32:11.24248Z"
        },
        "id": "_MmHpgRPsrm1"
      },
      "outputs": [],
      "execution_count": null
    },
    {
      "cell_type": "code",
      "source": [
        "df[\"tweet_length\"] = df[\"clean_tweet\"].apply(lambda x: len(x.split()))\n",
        "df.head()"
      ],
      "metadata": {
        "trusted": true,
        "execution": {
          "iopub.status.busy": "2025-02-22T15:32:11.245025Z",
          "iopub.execute_input": "2025-02-22T15:32:11.245573Z",
          "iopub.status.idle": "2025-02-22T15:32:12.668754Z",
          "shell.execute_reply.started": "2025-02-22T15:32:11.245504Z",
          "shell.execute_reply": "2025-02-22T15:32:12.667439Z"
        },
        "id": "f2rFfRFfsrm1"
      },
      "outputs": [],
      "execution_count": null
    },
    {
      "cell_type": "code",
      "source": [
        "zero_len = df[df[\"tweet_length\"]==0][[\"tweet\" ,\"clean_tweet\",\"tweet_length\"]]\n",
        "display(zero_len.shape)\n",
        "zero_len.head()"
      ],
      "metadata": {
        "trusted": true,
        "execution": {
          "iopub.status.busy": "2025-02-22T15:32:12.670071Z",
          "iopub.execute_input": "2025-02-22T15:32:12.670435Z",
          "iopub.status.idle": "2025-02-22T15:32:12.698017Z",
          "shell.execute_reply.started": "2025-02-22T15:32:12.670407Z",
          "shell.execute_reply": "2025-02-22T15:32:12.696724Z"
        },
        "id": "TxXeyFyvsrm2"
      },
      "outputs": [],
      "execution_count": null
    },
    {
      "cell_type": "code",
      "source": [
        "df = df[df[\"tweet_length\"] != 0].reset_index(drop = True)\n",
        "df = df.drop_duplicates(subset=['clean_tweet'], keep='first')\n",
        "display(df.shape)"
      ],
      "metadata": {
        "trusted": true,
        "execution": {
          "iopub.status.busy": "2025-02-22T15:32:12.699206Z",
          "iopub.execute_input": "2025-02-22T15:32:12.699553Z",
          "iopub.status.idle": "2025-02-22T15:32:14.010827Z",
          "shell.execute_reply.started": "2025-02-22T15:32:12.699525Z",
          "shell.execute_reply": "2025-02-22T15:32:14.009651Z"
        },
        "id": "wayW5zqEsrm7"
      },
      "outputs": [],
      "execution_count": null
    },
    {
      "cell_type": "code",
      "source": [
        "tweet_len = df.groupby([\"sentiment\"]).agg(\n",
        "   mean = (\"tweet_length\", \"mean\")\n",
        ")\n",
        "\n",
        "tweet_len = tweet_len.transpose()\n",
        "tweet_len"
      ],
      "metadata": {
        "trusted": true,
        "execution": {
          "iopub.status.busy": "2025-02-22T15:32:14.012051Z",
          "iopub.execute_input": "2025-02-22T15:32:14.012487Z",
          "iopub.status.idle": "2025-02-22T15:32:14.161531Z",
          "shell.execute_reply.started": "2025-02-22T15:32:14.012447Z",
          "shell.execute_reply": "2025-02-22T15:32:14.160238Z"
        },
        "id": "dG9pLCH9srm7"
      },
      "outputs": [],
      "execution_count": null
    },
    {
      "cell_type": "code",
      "source": [
        "fig, axes = plt.subplots(2, 2, figsize=(12, 10))\n",
        "\n",
        "\n",
        "df[df[\"sentiment\"]==\"Negative\"][\"tweet_length\"].hist(color=\"lightcoral\", edgecolor=\"black\", ax=axes[0, 0], bins=30)\n",
        "df[df[\"sentiment\"]==\"Positive\"][\"tweet_length\"].hist(color=\"lightgreen\", edgecolor=\"black\", ax=axes[0, 1], bins=30)\n",
        "tweet_len.plot(kind=\"bar\", color = (\"lightcoral\", \"lightgreen\"), ax = axes[1, 0] )\n",
        "\n",
        "axes[0, 0].set_title(\"Negative Tweet Length Distribution\")\n",
        "axes[0, 1].set_title(\"Positive Tweet Length Distribution\")\n",
        "axes[1, 0].set_title(\"Positive VS Negative\")\n",
        "fig.delaxes(axes[1,1])\n",
        "\n",
        "plt.tight_layout()\n",
        "plt.show()"
      ],
      "metadata": {
        "trusted": true,
        "execution": {
          "iopub.status.busy": "2025-02-22T15:32:14.162789Z",
          "iopub.execute_input": "2025-02-22T15:32:14.163276Z",
          "iopub.status.idle": "2025-02-22T15:32:15.538622Z",
          "shell.execute_reply.started": "2025-02-22T15:32:14.163228Z",
          "shell.execute_reply": "2025-02-22T15:32:15.537067Z"
        },
        "id": "c1pwFW5zsrm8"
      },
      "outputs": [],
      "execution_count": null
    },
    {
      "cell_type": "code",
      "source": [
        "from sklearn.feature_extraction.text import CountVectorizer\n",
        "\n",
        "cv = CountVectorizer(max_features=100000)\n",
        "X = cv.fit_transform(df[\"clean_tweet\"])\n",
        "len(cv.get_feature_names_out())"
      ],
      "metadata": {
        "trusted": true,
        "execution": {
          "iopub.status.busy": "2025-02-22T15:32:15.539868Z",
          "iopub.execute_input": "2025-02-22T15:32:15.54023Z",
          "iopub.status.idle": "2025-02-22T15:32:31.951594Z",
          "shell.execute_reply.started": "2025-02-22T15:32:15.540191Z",
          "shell.execute_reply": "2025-02-22T15:32:31.950176Z"
        },
        "id": "OIWFIoY9srm9"
      },
      "outputs": [],
      "execution_count": null
    },
    {
      "cell_type": "code",
      "source": [
        "y = df[\"sentiment\"].map({\"Negative\": 0, \"Positive\": 1})"
      ],
      "metadata": {
        "trusted": true,
        "execution": {
          "iopub.status.busy": "2025-02-22T15:32:31.952735Z",
          "iopub.execute_input": "2025-02-22T15:32:31.953042Z",
          "iopub.status.idle": "2025-02-22T15:32:32.015511Z",
          "shell.execute_reply.started": "2025-02-22T15:32:31.953015Z",
          "shell.execute_reply": "2025-02-22T15:32:32.014259Z"
        },
        "id": "dCmvy15ysrm9"
      },
      "outputs": [],
      "execution_count": null
    },
    {
      "cell_type": "code",
      "source": [
        "from sklearn.model_selection import train_test_split\n",
        "\n",
        "x_train, x_test, y_train, y_test = train_test_split(X, y, random_state =0)"
      ],
      "metadata": {
        "trusted": true,
        "execution": {
          "iopub.status.busy": "2025-02-22T15:33:17.796665Z",
          "iopub.execute_input": "2025-02-22T15:33:17.797147Z",
          "iopub.status.idle": "2025-02-22T15:33:18.372582Z",
          "shell.execute_reply.started": "2025-02-22T15:33:17.797085Z",
          "shell.execute_reply": "2025-02-22T15:33:18.371174Z"
        },
        "id": "RksVSdzRsrm9"
      },
      "outputs": [],
      "execution_count": null
    },
    {
      "cell_type": "code",
      "source": [
        "from sklearn.preprocessing import StandardScaler\n",
        "from sklearn.linear_model import LogisticRegression\n",
        "\n",
        "scaler = StandardScaler(with_mean=False)\n",
        "x_train_scaled = scaler.fit_transform(x_train)\n",
        "x_test_scaled = scaler.transform(x_test)\n",
        "\n",
        "model = LogisticRegression(max_iter=500, solver='saga')\n",
        "model.fit(x_train_scaled, y_train)"
      ],
      "metadata": {
        "trusted": true,
        "execution": {
          "iopub.status.busy": "2025-02-22T15:37:22.445021Z",
          "iopub.execute_input": "2025-02-22T15:37:22.445537Z",
          "iopub.status.idle": "2025-02-22T15:45:31.455774Z",
          "shell.execute_reply.started": "2025-02-22T15:37:22.445503Z",
          "shell.execute_reply": "2025-02-22T15:45:31.454558Z"
        },
        "id": "tOD6IMhnsrm9"
      },
      "outputs": [],
      "execution_count": null
    },
    {
      "cell_type": "code",
      "source": [
        "y_pred = model.predict(x_test_scaled)\n",
        "y_pred"
      ],
      "metadata": {
        "trusted": true,
        "execution": {
          "iopub.status.busy": "2025-02-22T15:45:39.575524Z",
          "iopub.execute_input": "2025-02-22T15:45:39.575906Z",
          "iopub.status.idle": "2025-02-22T15:45:39.600313Z",
          "shell.execute_reply.started": "2025-02-22T15:45:39.575878Z",
          "shell.execute_reply": "2025-02-22T15:45:39.599085Z"
        },
        "id": "Bevb_ls1srm9"
      },
      "outputs": [],
      "execution_count": null
    },
    {
      "cell_type": "code",
      "source": [
        "from sklearn.metrics import accuracy_score, confusion_matrix, classification_report\n",
        "\n",
        "accuracy = accuracy_score(y_test, y_pred)\n",
        "print(f'Accuracy: {accuracy*100:.4f}%')\n",
        "\n",
        "conf_matrix = confusion_matrix(y_test, y_pred)\n",
        "print('Confusion Matrix:')\n",
        "print(conf_matrix)\n",
        "\n",
        "class_report = classification_report(y_test, y_pred)\n",
        "print('Classification Report:')\n",
        "print(class_report)"
      ],
      "metadata": {
        "trusted": true,
        "execution": {
          "iopub.status.busy": "2025-02-22T15:46:06.16359Z",
          "iopub.execute_input": "2025-02-22T15:46:06.16398Z",
          "iopub.status.idle": "2025-02-22T15:46:07.046378Z",
          "shell.execute_reply.started": "2025-02-22T15:46:06.163953Z",
          "shell.execute_reply": "2025-02-22T15:46:07.044942Z"
        },
        "id": "IoCx4h1nsrm-"
      },
      "outputs": [],
      "execution_count": null
    },
    {
      "cell_type": "code",
      "source": [
        "plt.figure(figsize=(6, 4))\n",
        "sns.heatmap(conf_matrix, annot=True, fmt=\"d\", cmap=\"Blues\", xticklabels=[\"No\", \"Yes\"], yticklabels=[\"No\", \"Yes\"])\n",
        "\n",
        "plt.xlabel(\"Predicted Label\")\n",
        "plt.ylabel(\"True Label\")\n",
        "plt.title(\"Confusion Matrix Visualization\")\n",
        "plt.show()"
      ],
      "metadata": {
        "trusted": true,
        "execution": {
          "iopub.status.busy": "2025-02-22T15:46:25.579915Z",
          "iopub.execute_input": "2025-02-22T15:46:25.580323Z",
          "iopub.status.idle": "2025-02-22T15:46:25.793725Z",
          "shell.execute_reply.started": "2025-02-22T15:46:25.580297Z",
          "shell.execute_reply": "2025-02-22T15:46:25.79244Z"
        },
        "id": "3QWgVDkksrm-"
      },
      "outputs": [],
      "execution_count": null
    },
    {
      "cell_type": "markdown",
      "source": [
        "> **Now, let's proceed and predict the sentiment of some sentences from our own input.**"
      ],
      "metadata": {
        "id": "lLKTP61wsrm-"
      }
    },
    {
      "cell_type": "code",
      "source": [
        "sent = pd.DataFrame({\"tweet\": [\"I am very happy today\", \"lol, i have depression\"]})\n",
        "sent[\"clean_tweet\"] = sent[\"tweet\"].apply(clean_tweet)\n",
        "sent"
      ],
      "metadata": {
        "trusted": true,
        "execution": {
          "iopub.status.busy": "2025-02-22T15:46:49.165059Z",
          "iopub.execute_input": "2025-02-22T15:46:49.165597Z",
          "iopub.status.idle": "2025-02-22T15:46:49.1785Z",
          "shell.execute_reply.started": "2025-02-22T15:46:49.165562Z",
          "shell.execute_reply": "2025-02-22T15:46:49.176755Z"
        },
        "id": "zDIBdeixsrm-"
      },
      "outputs": [],
      "execution_count": null
    },
    {
      "cell_type": "code",
      "source": [
        "pre = cv.transform(sent[\"clean_tweet\"])\n",
        "pre = scaler.transform(pre)\n",
        "predict_sent = model.predict(pre)\n",
        "predict_sent"
      ],
      "metadata": {
        "trusted": true,
        "execution": {
          "iopub.status.busy": "2025-02-22T15:46:53.638518Z",
          "iopub.execute_input": "2025-02-22T15:46:53.638878Z",
          "iopub.status.idle": "2025-02-22T15:46:53.649866Z",
          "shell.execute_reply.started": "2025-02-22T15:46:53.638852Z",
          "shell.execute_reply": "2025-02-22T15:46:53.647998Z"
        },
        "id": "uW6Hu2Qvsrm-"
      },
      "outputs": [],
      "execution_count": null
    }
  ]
}